{
 "cells": [
  {
   "cell_type": "markdown",
   "metadata": {},
   "source": [
    "# Zadanie 1"
   ]
  },
  {
   "cell_type": "code",
   "execution_count": 1,
   "metadata": {},
   "outputs": [
    {
     "name": "stdout",
     "output_type": "stream",
     "text": [
      "Hello world\n"
     ]
    }
   ],
   "source": [
    "print(\"Hello world\")"
   ]
  },
  {
   "cell_type": "markdown",
   "metadata": {},
   "source": [
    "# Zadanie 2"
   ]
  },
  {
   "cell_type": "code",
   "execution_count": 4,
   "metadata": {},
   "outputs": [
    {
     "name": "stdout",
     "output_type": "stream",
     "text": [
      "  __________\n",
      "| Greetings! |\n",
      "  ==========\n",
      "                \\\n",
      "                 \\\n",
      "                  \\\n",
      "                   \\\n",
      "                                      .       .\n",
      "                                     / `.   .' \\\n",
      "                             .---.  <    > <    >  .---.\n",
      "                             |    \\  \\ - ~ ~ - /  /    |\n",
      "                 _____        ~-..-~             ~-..-~\n",
      "                |     |   \\~~~\\.'                    `./~~~/\n",
      "               ---------   \\__/                        \\__/\n",
      "              .'  O    \\     /               /       \\  \"\n",
      "             (_____,    `._.'               |         }  \\/~~~/\n",
      "              `----.          /       }     |        /    \\__/\n",
      "                    `-.      |       /      |       /      `. ,~~|\n",
      "                        ~-.__|      /_ - ~ ^|      /- _      `..-'   f:  f:\n",
      "                             |     /        |     /     ~-.     `-. _|| _||_\n",
      "                             |_____|        |_____|         ~ - . _ _ _ _ __>\n",
      "  _____\n",
      "| Muuuu |\n",
      "  =====\n",
      "     \\\n",
      "      \\\n",
      "        ^__^\n",
      "        (oo)\\_______\n",
      "        (__)\\       )\\/\\\n",
      "            ||----w |\n",
      "            ||     ||\n"
     ]
    }
   ],
   "source": [
    "import cowsay\n",
    "\n",
    "cowsay.stegosaurus(\"Greetings!\")\n",
    "cowsay.cow(\"Muuuu\")"
   ]
  },
  {
   "cell_type": "markdown",
   "metadata": {},
   "source": [
    "# Zadanie 3"
   ]
  },
  {
   "cell_type": "code",
   "execution_count": 39,
   "metadata": {},
   "outputs": [],
   "source": [
    "import math as m\n",
    "\n",
    "def calc_equation(x: float):\n",
    "    return m.sin(x) + m.cos(x)\n",
    "\n",
    "\n",
    "source_file = open(\"arguments.txt\")\n",
    "result_file = open(\"results.txt\", \"w\")\n",
    "\n",
    "for line in source_file:\n",
    "    parsed_argument = float(line)\n",
    "    result = calc_equation(parsed_argument)\n",
    "    \n",
    "    message =  f\"argument: {line.strip()}; calculated sin + cos:  {result}\\n\\n\"\n",
    "    result_file.write(message)"
   ]
  },
  {
   "cell_type": "markdown",
   "metadata": {},
   "source": [
    "# Zadanie 4"
   ]
  },
  {
   "cell_type": "code",
   "execution_count": 57,
   "metadata": {},
   "outputs": [
    {
     "name": "stdout",
     "output_type": "stream",
     "text": [
      "Your total is: 4.2\n",
      "Your total is: 0.0\n",
      "Your total is: 17.3\n"
     ]
    }
   ],
   "source": [
    "class Product:\n",
    "    def __init__(self, name: str, price: float, quantity: int):\n",
    "        self.name = name\n",
    "        self.price = price\n",
    "        self.quantity = quantity\n",
    "        \n",
    "        \n",
    "class Cart:\n",
    "    def __init__(self):\n",
    "        apple = Product(\"apple\", 5.60, 0)\n",
    "        tomato = Product(\"tomato\", 4.20, 0)\n",
    "        onion = Product(\"onion\", 3.30, 0)\n",
    "        \n",
    "        self.products = [apple, tomato, onion]\n",
    "    \n",
    "    \n",
    "    def add(self, name: str):\n",
    "        for product in self.products:\n",
    "            if product.name == name:\n",
    "                product.quantity += 1\n",
    "        \n",
    "        \n",
    "    def remove(self, name: str):\n",
    "        for product in self.products:\n",
    "            if product.name == name:\n",
    "                if product.quantity != 0:\n",
    "                    product.quantity -= 1\n",
    "    \n",
    "    \n",
    "    def total_price(self):\n",
    "        sum = 0\n",
    "        \n",
    "        for product in self.products:\n",
    "            sum += product.quantity * product.price\n",
    "        \n",
    "        return sum\n",
    "\n",
    "    \n",
    "cart = Cart()\n",
    "cart.add(\"tomato\")\n",
    "print(f\"Your total is: {cart.total_price()}\")\n",
    "\n",
    "cart.remove(\"tomato\")\n",
    "print(f\"Your total is: {cart.total_price()}\")\n",
    "\n",
    "cart.add(\"tomato\")\n",
    "cart.add(\"tomato\")\n",
    "cart.add(\"onion\")\n",
    "cart.add(\"apple\")\n",
    "print(f\"Your total is: {cart.total_price()}\")"
   ]
  },
  {
   "cell_type": "markdown",
   "metadata": {},
   "source": [
    "# Zadanie 5"
   ]
  },
  {
   "cell_type": "code",
   "execution_count": 74,
   "metadata": {},
   "outputs": [
    {
     "name": "stdout",
     "output_type": "stream",
     "text": [
      "List of products in this cart: \n",
      "[*] Name: apple; Price: 5.6; Quantity: 1\n",
      "[*] Name: tomato; Price: 4.2; Quantity: 2\n",
      "[*] Name: onion; Price: 3.3; Quantity: 1\n",
      "This cart total value is: 17.3\n",
      "4\n",
      "Name: apple; Price: 5.6; Quantity: 1\n",
      "Name: tomato; Price: 4.2; Quantity: 2\n",
      "Name: onion; Price: 3.3; Quantity: 1\n"
     ]
    }
   ],
   "source": [
    "class Product:\n",
    "    def __init__(self, name: str, price: float, quantity: int):\n",
    "        self.name = name\n",
    "        self.price = price\n",
    "        self.quantity = quantity\n",
    "    \n",
    "    def __str__(self):\n",
    "        return f\"Name: {self.name}; Price: {self.price}\"\n",
    "        \n",
    "class Cart:\n",
    "    def __init__(self):\n",
    "        apple = Product(\"apple\", 5.60, 0)\n",
    "        tomato = Product(\"tomato\", 4.20, 0)\n",
    "        onion = Product(\"onion\", 3.30, 0)\n",
    "        \n",
    "        self.products = [apple, tomato, onion]\n",
    "    \n",
    "    \n",
    "    def add(self, name: str):\n",
    "        for product in self.products:\n",
    "            if product.name == name:\n",
    "                product.quantity += 1\n",
    "        \n",
    "        \n",
    "    def remove(self, name: str):\n",
    "        for product in self.products:\n",
    "            if product.name == name:\n",
    "                if product.quantity != 0:\n",
    "                    product.quantity -= 1\n",
    "    \n",
    "    \n",
    "    def total_price(self):\n",
    "        sum = 0\n",
    "        \n",
    "        for product in self.products:\n",
    "            sum += product.quantity * product.price\n",
    "        \n",
    "        return sum\n",
    "    \n",
    "    def __str__(self):\n",
    "        out = f\"List of products in this cart: \\n\"\n",
    "        \n",
    "        for product in self.products:\n",
    "            out += f\"[*] {str(product)}; Quantity: {product.quantity}\\n\"\n",
    "        \n",
    "        out += f\"This cart total value is: {self.total_price()}\"\n",
    "        \n",
    "        return out\n",
    "    \n",
    "    def __len__(self):\n",
    "        total_quantity = 0\n",
    "        \n",
    "        for product in self.products:\n",
    "            total_quantity += product.quantity\n",
    "        \n",
    "        return total_quantity\n",
    "    \n",
    "    def __iter__(self):\n",
    "        return CartIterator(self)\n",
    "\n",
    "class CartIterator:\n",
    "    def __init__(self, cart):\n",
    "        self._cart = cart\n",
    "        self._index = 0\n",
    "        self._max_index = cart.products.__len__()\n",
    "    \n",
    "    def __next__(self):\n",
    "        if self._index < self._max_index:\n",
    "            self._index +=1\n",
    "            return self._cart.products[self._index - 1]\n",
    "        else:\n",
    "            raise StopIteration\n",
    "            \n",
    "            \n",
    "cart = Cart()\n",
    "\n",
    "cart.add(\"tomato\")\n",
    "cart.add(\"tomato\")\n",
    "cart.add(\"onion\")\n",
    "cart.add(\"apple\")\n",
    "\n",
    "print(str(cart))\n",
    "print(len(cart))\n",
    "\n",
    "for product in cart:\n",
    "    print(f\"{str(product)}; Quantity: {product.quantity}\")"
   ]
  }
 ],
 "metadata": {
  "kernelspec": {
   "display_name": "Python 3 (ipykernel)",
   "language": "python",
   "name": "python3"
  },
  "language_info": {
   "codemirror_mode": {
    "name": "ipython",
    "version": 3
   },
   "file_extension": ".py",
   "mimetype": "text/x-python",
   "name": "python",
   "nbconvert_exporter": "python",
   "pygments_lexer": "ipython3",
   "version": "3.10.10"
  }
 },
 "nbformat": 4,
 "nbformat_minor": 4
}
